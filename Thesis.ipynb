{
  "cells": [
    {
      "cell_type": "markdown",
      "metadata": {
        "id": "view-in-github",
        "colab_type": "text"
      },
      "source": [
        "<a href=\"https://colab.research.google.com/github/SaiSalian07/SaiSalian07.github.io/blob/main/Thesis.ipynb\" target=\"_parent\"><img src=\"https://colab.research.google.com/assets/colab-badge.svg\" alt=\"Open In Colab\"/></a>"
      ]
    },
    {
      "cell_type": "code",
      "execution_count": 1,
      "metadata": {
        "colab": {
          "base_uri": "https://localhost:8080/",
          "height": 0
        },
        "id": "3Ci0Nt2ld2mL",
        "outputId": "b0e635e4-1b3a-4163-d9c3-60ea67001671"
      },
      "outputs": [
        {
          "output_type": "stream",
          "name": "stdout",
          "text": [
            "Mounted at /content/drive\n"
          ]
        }
      ],
      "source": [
        "from google.colab import drive\n",
        "drive.mount('/content/drive')\n"
      ]
    },
    {
      "cell_type": "code",
      "execution_count": 2,
      "metadata": {
        "colab": {
          "base_uri": "https://localhost:8080/",
          "height": 242
        },
        "id": "cUNY4c7OiW9H",
        "outputId": "52c93688-875d-406a-faaf-0837efa39415"
      },
      "outputs": [
        {
          "output_type": "stream",
          "name": "stderr",
          "text": [
            "[nltk_data] Downloading package stopwords to /root/nltk_data...\n",
            "[nltk_data]   Unzipping corpora/stopwords.zip.\n"
          ]
        },
        {
          "output_type": "execute_result",
          "data": {
            "text/plain": [
              "                                       text_combined  label\n",
              "0  hpl nom may 25 2001 see attached file hplno 52...      0\n",
              "1  nom actual vols 24 th forwarded sabrae zajac h...      0\n",
              "2  enron actuals march 30 april 1 201 estimated a...      0\n",
              "3  hpl nom may 30 2001 see attached file hplno 53...      0\n",
              "4  hpl nom june 1 2001 see attached file hplno 60...      0"
            ],
            "text/html": [
              "\n",
              "  <div id=\"df-7fa9a821-37fa-4225-a13e-51470c0889c6\" class=\"colab-df-container\">\n",
              "    <div>\n",
              "<style scoped>\n",
              "    .dataframe tbody tr th:only-of-type {\n",
              "        vertical-align: middle;\n",
              "    }\n",
              "\n",
              "    .dataframe tbody tr th {\n",
              "        vertical-align: top;\n",
              "    }\n",
              "\n",
              "    .dataframe thead th {\n",
              "        text-align: right;\n",
              "    }\n",
              "</style>\n",
              "<table border=\"1\" class=\"dataframe\">\n",
              "  <thead>\n",
              "    <tr style=\"text-align: right;\">\n",
              "      <th></th>\n",
              "      <th>text_combined</th>\n",
              "      <th>label</th>\n",
              "    </tr>\n",
              "  </thead>\n",
              "  <tbody>\n",
              "    <tr>\n",
              "      <th>0</th>\n",
              "      <td>hpl nom may 25 2001 see attached file hplno 52...</td>\n",
              "      <td>0</td>\n",
              "    </tr>\n",
              "    <tr>\n",
              "      <th>1</th>\n",
              "      <td>nom actual vols 24 th forwarded sabrae zajac h...</td>\n",
              "      <td>0</td>\n",
              "    </tr>\n",
              "    <tr>\n",
              "      <th>2</th>\n",
              "      <td>enron actuals march 30 april 1 201 estimated a...</td>\n",
              "      <td>0</td>\n",
              "    </tr>\n",
              "    <tr>\n",
              "      <th>3</th>\n",
              "      <td>hpl nom may 30 2001 see attached file hplno 53...</td>\n",
              "      <td>0</td>\n",
              "    </tr>\n",
              "    <tr>\n",
              "      <th>4</th>\n",
              "      <td>hpl nom june 1 2001 see attached file hplno 60...</td>\n",
              "      <td>0</td>\n",
              "    </tr>\n",
              "  </tbody>\n",
              "</table>\n",
              "</div>\n",
              "    <div class=\"colab-df-buttons\">\n",
              "\n",
              "  <div class=\"colab-df-container\">\n",
              "    <button class=\"colab-df-convert\" onclick=\"convertToInteractive('df-7fa9a821-37fa-4225-a13e-51470c0889c6')\"\n",
              "            title=\"Convert this dataframe to an interactive table.\"\n",
              "            style=\"display:none;\">\n",
              "\n",
              "  <svg xmlns=\"http://www.w3.org/2000/svg\" height=\"24px\" viewBox=\"0 -960 960 960\">\n",
              "    <path d=\"M120-120v-720h720v720H120Zm60-500h600v-160H180v160Zm220 220h160v-160H400v160Zm0 220h160v-160H400v160ZM180-400h160v-160H180v160Zm440 0h160v-160H620v160ZM180-180h160v-160H180v160Zm440 0h160v-160H620v160Z\"/>\n",
              "  </svg>\n",
              "    </button>\n",
              "\n",
              "  <style>\n",
              "    .colab-df-container {\n",
              "      display:flex;\n",
              "      gap: 12px;\n",
              "    }\n",
              "\n",
              "    .colab-df-convert {\n",
              "      background-color: #E8F0FE;\n",
              "      border: none;\n",
              "      border-radius: 50%;\n",
              "      cursor: pointer;\n",
              "      display: none;\n",
              "      fill: #1967D2;\n",
              "      height: 32px;\n",
              "      padding: 0 0 0 0;\n",
              "      width: 32px;\n",
              "    }\n",
              "\n",
              "    .colab-df-convert:hover {\n",
              "      background-color: #E2EBFA;\n",
              "      box-shadow: 0px 1px 2px rgba(60, 64, 67, 0.3), 0px 1px 3px 1px rgba(60, 64, 67, 0.15);\n",
              "      fill: #174EA6;\n",
              "    }\n",
              "\n",
              "    .colab-df-buttons div {\n",
              "      margin-bottom: 4px;\n",
              "    }\n",
              "\n",
              "    [theme=dark] .colab-df-convert {\n",
              "      background-color: #3B4455;\n",
              "      fill: #D2E3FC;\n",
              "    }\n",
              "\n",
              "    [theme=dark] .colab-df-convert:hover {\n",
              "      background-color: #434B5C;\n",
              "      box-shadow: 0px 1px 3px 1px rgba(0, 0, 0, 0.15);\n",
              "      filter: drop-shadow(0px 1px 2px rgba(0, 0, 0, 0.3));\n",
              "      fill: #FFFFFF;\n",
              "    }\n",
              "  </style>\n",
              "\n",
              "    <script>\n",
              "      const buttonEl =\n",
              "        document.querySelector('#df-7fa9a821-37fa-4225-a13e-51470c0889c6 button.colab-df-convert');\n",
              "      buttonEl.style.display =\n",
              "        google.colab.kernel.accessAllowed ? 'block' : 'none';\n",
              "\n",
              "      async function convertToInteractive(key) {\n",
              "        const element = document.querySelector('#df-7fa9a821-37fa-4225-a13e-51470c0889c6');\n",
              "        const dataTable =\n",
              "          await google.colab.kernel.invokeFunction('convertToInteractive',\n",
              "                                                    [key], {});\n",
              "        if (!dataTable) return;\n",
              "\n",
              "        const docLinkHtml = 'Like what you see? Visit the ' +\n",
              "          '<a target=\"_blank\" href=https://colab.research.google.com/notebooks/data_table.ipynb>data table notebook</a>'\n",
              "          + ' to learn more about interactive tables.';\n",
              "        element.innerHTML = '';\n",
              "        dataTable['output_type'] = 'display_data';\n",
              "        await google.colab.output.renderOutput(dataTable, element);\n",
              "        const docLink = document.createElement('div');\n",
              "        docLink.innerHTML = docLinkHtml;\n",
              "        element.appendChild(docLink);\n",
              "      }\n",
              "    </script>\n",
              "  </div>\n",
              "\n",
              "\n",
              "<div id=\"df-fd05d590-29aa-4ee2-91d3-2484c9d97d72\">\n",
              "  <button class=\"colab-df-quickchart\" onclick=\"quickchart('df-fd05d590-29aa-4ee2-91d3-2484c9d97d72')\"\n",
              "            title=\"Suggest charts\"\n",
              "            style=\"display:none;\">\n",
              "\n",
              "<svg xmlns=\"http://www.w3.org/2000/svg\" height=\"24px\"viewBox=\"0 0 24 24\"\n",
              "     width=\"24px\">\n",
              "    <g>\n",
              "        <path d=\"M19 3H5c-1.1 0-2 .9-2 2v14c0 1.1.9 2 2 2h14c1.1 0 2-.9 2-2V5c0-1.1-.9-2-2-2zM9 17H7v-7h2v7zm4 0h-2V7h2v10zm4 0h-2v-4h2v4z\"/>\n",
              "    </g>\n",
              "</svg>\n",
              "  </button>\n",
              "\n",
              "<style>\n",
              "  .colab-df-quickchart {\n",
              "      --bg-color: #E8F0FE;\n",
              "      --fill-color: #1967D2;\n",
              "      --hover-bg-color: #E2EBFA;\n",
              "      --hover-fill-color: #174EA6;\n",
              "      --disabled-fill-color: #AAA;\n",
              "      --disabled-bg-color: #DDD;\n",
              "  }\n",
              "\n",
              "  [theme=dark] .colab-df-quickchart {\n",
              "      --bg-color: #3B4455;\n",
              "      --fill-color: #D2E3FC;\n",
              "      --hover-bg-color: #434B5C;\n",
              "      --hover-fill-color: #FFFFFF;\n",
              "      --disabled-bg-color: #3B4455;\n",
              "      --disabled-fill-color: #666;\n",
              "  }\n",
              "\n",
              "  .colab-df-quickchart {\n",
              "    background-color: var(--bg-color);\n",
              "    border: none;\n",
              "    border-radius: 50%;\n",
              "    cursor: pointer;\n",
              "    display: none;\n",
              "    fill: var(--fill-color);\n",
              "    height: 32px;\n",
              "    padding: 0;\n",
              "    width: 32px;\n",
              "  }\n",
              "\n",
              "  .colab-df-quickchart:hover {\n",
              "    background-color: var(--hover-bg-color);\n",
              "    box-shadow: 0 1px 2px rgba(60, 64, 67, 0.3), 0 1px 3px 1px rgba(60, 64, 67, 0.15);\n",
              "    fill: var(--button-hover-fill-color);\n",
              "  }\n",
              "\n",
              "  .colab-df-quickchart-complete:disabled,\n",
              "  .colab-df-quickchart-complete:disabled:hover {\n",
              "    background-color: var(--disabled-bg-color);\n",
              "    fill: var(--disabled-fill-color);\n",
              "    box-shadow: none;\n",
              "  }\n",
              "\n",
              "  .colab-df-spinner {\n",
              "    border: 2px solid var(--fill-color);\n",
              "    border-color: transparent;\n",
              "    border-bottom-color: var(--fill-color);\n",
              "    animation:\n",
              "      spin 1s steps(1) infinite;\n",
              "  }\n",
              "\n",
              "  @keyframes spin {\n",
              "    0% {\n",
              "      border-color: transparent;\n",
              "      border-bottom-color: var(--fill-color);\n",
              "      border-left-color: var(--fill-color);\n",
              "    }\n",
              "    20% {\n",
              "      border-color: transparent;\n",
              "      border-left-color: var(--fill-color);\n",
              "      border-top-color: var(--fill-color);\n",
              "    }\n",
              "    30% {\n",
              "      border-color: transparent;\n",
              "      border-left-color: var(--fill-color);\n",
              "      border-top-color: var(--fill-color);\n",
              "      border-right-color: var(--fill-color);\n",
              "    }\n",
              "    40% {\n",
              "      border-color: transparent;\n",
              "      border-right-color: var(--fill-color);\n",
              "      border-top-color: var(--fill-color);\n",
              "    }\n",
              "    60% {\n",
              "      border-color: transparent;\n",
              "      border-right-color: var(--fill-color);\n",
              "    }\n",
              "    80% {\n",
              "      border-color: transparent;\n",
              "      border-right-color: var(--fill-color);\n",
              "      border-bottom-color: var(--fill-color);\n",
              "    }\n",
              "    90% {\n",
              "      border-color: transparent;\n",
              "      border-bottom-color: var(--fill-color);\n",
              "    }\n",
              "  }\n",
              "</style>\n",
              "\n",
              "  <script>\n",
              "    async function quickchart(key) {\n",
              "      const quickchartButtonEl =\n",
              "        document.querySelector('#' + key + ' button');\n",
              "      quickchartButtonEl.disabled = true;  // To prevent multiple clicks.\n",
              "      quickchartButtonEl.classList.add('colab-df-spinner');\n",
              "      try {\n",
              "        const charts = await google.colab.kernel.invokeFunction(\n",
              "            'suggestCharts', [key], {});\n",
              "      } catch (error) {\n",
              "        console.error('Error during call to suggestCharts:', error);\n",
              "      }\n",
              "      quickchartButtonEl.classList.remove('colab-df-spinner');\n",
              "      quickchartButtonEl.classList.add('colab-df-quickchart-complete');\n",
              "    }\n",
              "    (() => {\n",
              "      let quickchartButtonEl =\n",
              "        document.querySelector('#df-fd05d590-29aa-4ee2-91d3-2484c9d97d72 button');\n",
              "      quickchartButtonEl.style.display =\n",
              "        google.colab.kernel.accessAllowed ? 'block' : 'none';\n",
              "    })();\n",
              "  </script>\n",
              "</div>\n",
              "\n",
              "    </div>\n",
              "  </div>\n"
            ],
            "application/vnd.google.colaboratory.intrinsic+json": {
              "type": "dataframe",
              "variable_name": "df",
              "summary": "{\n  \"name\": \"df\",\n  \"rows\": 82486,\n  \"fields\": [\n    {\n      \"column\": \"text_combined\",\n      \"properties\": {\n        \"dtype\": \"string\",\n        \"num_unique_values\": 82078,\n        \"samples\": [\n          \"garp 2001 convention invitation speak invitation speak garp 2001 2 nd annual risk management convention 13 th 14 th february 2001 marriott world trade center new york dear kaminski telephone conversation today secretary shirley crenshaw behalf global association risk professionals great pleasure inviting speak 2 nd annual risk management convention garp 2001 event rapidly establishing risk management industry important meeting point garp 2000 reflected key concerns risk management experts world wide 400 attendees first year three simultaneous streams address traditional pricing risk management techniques along specialised streams addressing new sectors corporate world insurance industry speaker panel 55 senior executive financial professionals investment banks regulatory bodies asset management firms academics insurers insurers corporate system providers financial risk management event year key areas convention consider include market risk stress testing liquidity jump diffusion evt credit risk regulation modeling stress testing credit portfolio management credit derivatives operational risk regulation data modeling validation evt advanced asset liability management corporate energy risk management insurance capital markets research discussions experts arena name highly recommended speaker event stream corporate energy risk management mind one sessions also topic titles provisional open suggested alterations corporate energy risk management modelling corporate risk risk management shareholder value perspective measuring energy risk tackling price volatility adapting var scenario modelling regulatory requirements forward pricing construction forward curve correlations transparency issues volatility challenge modelling price volatility examining new products designed stabilise volatility energy credit risk management garp profit independent organisation risk management practitioners researchers leading financial institutions world wide garp mission facilitate exchange information developing educational programs promoting standards area financial risk management information please refer web site www garp com sincerely hope able accept invitation look forward hearing due course questions please hesitate contact otherwise call discuss best regards andreas ps also attached copy garps 2000 program attention _ _ _ _ _ _ _ _ _ _ _ _ _ _ _ _ _ _ _ _ _ _ _ _ _ _ _ _ andreas simou garp 2001 conference producer tel 44 0 20 7626 9301 fax 44 0 20 7626 9900 draft programme doc g 2000 b wlowr pdf\",\n          \"fly macromedia xp pro sp 2 adobe photoshop ms office 2 oo 3 acrobat norton raise find companion profession parents drew popular softwwares start 20 vf windows xp pro sp 2 microsoft office 2003 system pro 5 cds adobe photoshop cs 8 0 ogt adobe acrobat 7 0 professional autocad 2005 dmd symantec norton systemworks dvdxcopy platinum 4 0 38 quickbooks 2004 premier edition macromedia studio mx 2004 microsoft office system professional 2003 norton antivirus 2005 adobe pagemaker 7 01 beingpromised order ur softwares different turning steps already development disappoint mentioned slow raise tying least make back find\",\n          \"mr kala kabila kkkabila2003yahoocom kalla kabila johannesburg south africa dear sir know surprise receive lette letter request family dare need asistance kalla kabila democratic republic congo drc son mrs mercy kabila youngest wife late president laurent kabila murdered recently got name address business desk chamber commerce industry johannesburg behalf widowed mother mrs mercy kabila decided solicit assistance president laurent kabila got married mother widow currently residing johannesburg south africa child woman death willed us certain portion wealth including amount fund due love mother fund us24m twenty four million united states dollars deposited box one well rec ognized security company south africa valuables instructed us solicit assistance reliable sincere foreign partner assist us transfer money south africa investment purposes fortunately enough mother late president people aware moreover box deposited name claim alone deposited secret code mother still documents therefore need assistance transferring huge sum ofus24m twenty four million united states dollars inherited late father personal companys account please bear mind entire life future mother depend fund grateful assist us live south africa asylum seekers due circumstances behind fund family crisis invest money south africa fo r effort prepared offer 20 total su whi le 10 set aside expenses incurred transaction please note transaction 100 risk free major thing demand assurance safety money finally gets information arrangement commence soon trust confidence good relationship established shall grateful maintain confidentiality matter please confirm interest via email address dont forget drop phone fax number easeir communication best regards kalla kabila tue 20 apr 2004 140312 0400 need help\"\n        ],\n        \"semantic_type\": \"\",\n        \"description\": \"\"\n      }\n    },\n    {\n      \"column\": \"label\",\n      \"properties\": {\n        \"dtype\": \"number\",\n        \"std\": 0,\n        \"min\": 0,\n        \"max\": 1,\n        \"num_unique_values\": 2,\n        \"samples\": [\n          1,\n          0\n        ],\n        \"semantic_type\": \"\",\n        \"description\": \"\"\n      }\n    }\n  ]\n}"
            }
          },
          "metadata": {},
          "execution_count": 2
        }
      ],
      "source": [
        "import pandas as pd\n",
        "import numpy as np\n",
        "import nltk\n",
        "import torch\n",
        "from nltk.corpus import stopwords\n",
        "from sklearn.model_selection import train_test_split\n",
        "from sklearn.ensemble import RandomForestClassifier\n",
        "from sklearn.metrics import classification_report\n",
        "from transformers import DistilBertTokenizer, DistilBertForSequenceClassification, DistilBertModel\n",
        "\n",
        "\n",
        "nltk.download('stopwords')\n",
        "\n",
        "# Loading the dataset\n",
        "df = pd.read_csv('/content/drive/My Drive/Thesis - Phishing Detection/Datasets/phishing_email.csv')\n",
        "\n",
        "# To display the first few rows of the dataset\n",
        "df.head()\n"
      ]
    },
    {
      "cell_type": "code",
      "execution_count": null,
      "metadata": {
        "cellView": "form",
        "colab": {
          "base_uri": "https://localhost:8080/",
          "height": 564
        },
        "id": "rFnHPxmulV8U",
        "outputId": "6bc84098-731b-4bbe-d7f4-01db169f3eb9"
      },
      "outputs": [
        {
          "data": {
            "image/png": "[encoded data removed]",
            "text/plain": [
              "<Figure size 1000x600 with 1 Axes>"
            ]
          },
          "metadata": {},
          "output_type": "display_data"
        }
      ],
      "source": [
        "# @title Frequency of Specific Keywords in Spam vs Non-Spam Emails\n",
        "\n",
        "import matplotlib.pyplot as plt\n",
        "\n",
        "keywords = ['money', 'free', 'offer', 'win', 'prize', 'urgent', 'click']\n",
        "\n",
        "spam_counts = [df[df['label'] == 1]['text_combined'].str.lower().str.count(keyword).sum() for keyword in keywords]\n",
        "non_spam_counts = [df[df['label'] == 0]['text_combined'].str.lower().str.count(keyword).sum() for keyword in keywords]\n",
        "\n",
        "# Create bar chart\n",
        "plt.figure(figsize=(10, 6))\n",
        "plt.bar(keywords, spam_counts, label='Spam', alpha=0.7)\n",
        "plt.bar(keywords, non_spam_counts, bottom=spam_counts, label='Non-Spam', alpha=0.7)\n",
        "\n",
        "plt.xlabel('Keywords')\n",
        "plt.ylabel('Frequency')\n",
        "plt.title('Frequency of Specific Keywords in Spam vs Non-Spam Emails')\n",
        "_ = plt.legend()\n"
      ]
    },
    {
      "cell_type": "code",
      "execution_count": 12,
      "metadata": {
        "id": "VMBKJZNrjfBa"
      },
      "outputs": [],
      "source": [
        "import string\n",
        "\n",
        "def preprocess_text(text_combined):\n",
        "    stop_words = set(stopwords.words('english'))\n",
        "    text = text_combined.lower()\n",
        "    text = ''.join([char for char in text if char not in string.punctuation])\n",
        "    text = ' '.join([word for word in text.split() if word not in stop_words])\n",
        "    return text\n",
        "\n",
        "df['text_combined'] = df['text_combined'].apply(preprocess_text)\n",
        "\n",
        "# Spliting the data into training and testing sets\n",
        "X_train, X_test, y_train, y_test = train_test_split(df['text_combined'], df['label'], test_size=0.2, random_state=42)"
      ]
    },
    {
      "cell_type": "code",
      "source": [
        "import torch\n",
        "\n",
        "# Check if CUDA (GPU support) is available\n",
        "if torch.cuda.is_available():\n",
        "    print(\"CUDA is available! Training on GPU...\")\n",
        "    device = torch.device(\"cuda\")\n",
        "else:\n",
        "    print(\"CUDA is not available. Training on CPU...\")\n",
        "    device = torch.device(\"cpu\")\n",
        "\n",
        "print(f\"Using device: {device}\")\n"
      ],
      "metadata": {
        "colab": {
          "base_uri": "https://localhost:8080/"
        },
        "id": "7jFiPANlyMM0",
        "outputId": "e42a685c-efea-46f6-ee66-582a6b9c5dfd"
      },
      "execution_count": null,
      "outputs": [
        {
          "output_type": "stream",
          "name": "stdout",
          "text": [
            "CUDA is available! Training on GPU...\n",
            "Using device: cuda\n"
          ]
        }
      ]
    },
    {
      "cell_type": "code",
      "source": [
        "tokenizer = DistilBertTokenizer.from_pretrained('distilbert-base-uncased')\n",
        "model = DistilBertModel.from_pretrained('distilbert-base-uncased')\n",
        "\n",
        "# Check if GPU is available\n",
        "device = torch.device('cuda') if torch.cuda.is_available() else torch.device('cpu')\n",
        "model.to(device)\n",
        "\n",
        "def get_embeddings(texts, tokenizer, model, device, batch_size=32):\n",
        "    \"\"\"Function to get DistilBERT embeddings for a list of texts.\"\"\"\n",
        "    embeddings = []\n",
        "    model.eval()\n",
        "\n",
        "    with torch.no_grad():\n",
        "        for i in range(0, len(texts), batch_size):\n",
        "            batch_texts = texts[i:i + batch_size]\n",
        "            inputs = tokenizer(batch_texts, return_tensors='pt', truncation=True, padding=True, max_length=512).to(device)\n",
        "            outputs = model(**inputs)\n",
        "            batch_embeddings = outputs.last_hidden_state.mean(dim=1).cpu().numpy()\n",
        "            embeddings.extend(batch_embeddings)\n",
        "\n",
        "    return np.array(embeddings)\n",
        "\n",
        "# Get embeddings for training and testing sets\n",
        "X_train_embeddings = get_embeddings(X_train.tolist(), tokenizer, model, device)\n",
        "X_test_embeddings = get_embeddings(X_test.tolist(), tokenizer, model, device)\n",
        "\n",
        "X_train_embeddings = X_train_embeddings.reshape(X_train_embeddings.shape[0], -1)\n",
        "X_test_embeddings = X_test_embeddings.reshape(X_test_embeddings.shape[0], -1)\n",
        "\n",
        "# Verify shapes\n",
        "print(f'Training embeddings shape: {X_train_embeddings.shape}')\n",
        "print(f'Test embeddings shape: {X_test_embeddings.shape}')"
      ],
      "metadata": {
        "id": "iqQoda4p00q5"
      },
      "execution_count": null,
      "outputs": []
    },
    {
      "cell_type": "code",
      "source": [
        "clf = RandomForestClassifier(n_estimators=100, random_state=42)\n",
        "clf.fit(X_train_embeddings, y_train)\n",
        "\n",
        "# Make predictions on the test set\n",
        "y_pred = clf.predict(X_test_embeddings)\n",
        "\n",
        "print(classification_report(y_test, y_pred))"
      ],
      "metadata": {
        "colab": {
          "base_uri": "https://localhost:8080/",
          "height": 219
        },
        "id": "NlQB0Z7ZLBCv",
        "outputId": "a6d3c987-93b4-490d-b1c0-5e7000402c19"
      },
      "execution_count": 1,
      "outputs": [
        {
          "output_type": "error",
          "ename": "NameError",
          "evalue": "name 'RandomForestClassifier' is not defined",
          "traceback": [
            "\u001b[0;31m---------------------------------------------------------------------------\u001b[0m",
            "\u001b[0;31mNameError\u001b[0m                                 Traceback (most recent call last)",
            "\u001b[0;32m<ipython-input-1-538295fef5bd>\u001b[0m in \u001b[0;36m<cell line: 1>\u001b[0;34m()\u001b[0m\n\u001b[0;32m----> 1\u001b[0;31m \u001b[0mclf\u001b[0m \u001b[0;34m=\u001b[0m \u001b[0mRandomForestClassifier\u001b[0m\u001b[0;34m(\u001b[0m\u001b[0mn_estimators\u001b[0m\u001b[0;34m=\u001b[0m\u001b[0;36m100\u001b[0m\u001b[0;34m,\u001b[0m \u001b[0mrandom_state\u001b[0m\u001b[0;34m=\u001b[0m\u001b[0;36m42\u001b[0m\u001b[0;34m)\u001b[0m\u001b[0;34m\u001b[0m\u001b[0;34m\u001b[0m\u001b[0m\n\u001b[0m\u001b[1;32m      2\u001b[0m \u001b[0mclf\u001b[0m\u001b[0;34m.\u001b[0m\u001b[0mfit\u001b[0m\u001b[0;34m(\u001b[0m\u001b[0mX_train_embeddings\u001b[0m\u001b[0;34m,\u001b[0m \u001b[0my_train\u001b[0m\u001b[0;34m)\u001b[0m\u001b[0;34m\u001b[0m\u001b[0;34m\u001b[0m\u001b[0m\n\u001b[1;32m      3\u001b[0m \u001b[0;34m\u001b[0m\u001b[0m\n\u001b[1;32m      4\u001b[0m \u001b[0;31m# Make predictions on the test set\u001b[0m\u001b[0;34m\u001b[0m\u001b[0;34m\u001b[0m\u001b[0m\n\u001b[1;32m      5\u001b[0m \u001b[0my_pred\u001b[0m \u001b[0;34m=\u001b[0m \u001b[0mclf\u001b[0m\u001b[0;34m.\u001b[0m\u001b[0mpredict\u001b[0m\u001b[0;34m(\u001b[0m\u001b[0mX_test_embeddings\u001b[0m\u001b[0;34m)\u001b[0m\u001b[0;34m\u001b[0m\u001b[0;34m\u001b[0m\u001b[0m\n",
            "\u001b[0;31mNameError\u001b[0m: name 'RandomForestClassifier' is not defined"
          ]
        }
      ]
    }
  ],
  "metadata": {
    "colab": {
      "provenance": [],
      "gpuType": "T4",
      "authorship_tag": "ABX9TyPKHg/gfejVXZj6VRvKyRQZ",
      "include_colab_link": true
    },
    "kernelspec": {
      "display_name": "Python 3",
      "name": "python3"
    },
    "language_info": {
      "name": "python"
    },
    "accelerator": "GPU"
  },
  "nbformat": 4,
  "nbformat_minor": 0
}